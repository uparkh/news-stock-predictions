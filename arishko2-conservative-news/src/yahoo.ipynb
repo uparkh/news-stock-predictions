{
 "cells": [
  {
   "cell_type": "code",
   "execution_count": 11,
   "metadata": {},
   "outputs": [],
   "source": [
    "import requests\n",
    "import time\n",
    "import datetime\n",
    "from bs4 import BeautifulSoup\n",
    "\n",
    "\n",
    "def scrape_yahoo(url):\n",
    "    headers = {\n",
    "    'User-Agent': 'Mozilla/5.0 (Windows NT 10.0; Win64; x64) AppleWebKit/537.36 (KHTML, like Gecko) Chrome/91.0.4472.124 Safari/537.36'\n",
    "    }\n",
    "\n",
    "    response = requests.get(url, headers=headers)\n",
    "\n",
    "    if response.status_code == 200:\n",
    "        soup = BeautifulSoup(response.text, 'html.parser')\n",
    "        meta_title = soup.find('meta', attrs={'name': 'title'})\n",
    "        if meta_title:\n",
    "            title = meta_title.get('content', 'No title found')\n",
    "        else:\n",
    "            title = 'No title found'\n",
    "        paragraphs = soup.find_all('p', class_='yf-1090901')  \n",
    "        article_text = '\\n'.join([para.get_text() for para in paragraphs])\n",
    "\n",
    "        print(\"Title:\", title)\n",
    "        print(\"\\nArticle Content:\")\n",
    "        print(article_text)\n",
    "\n",
    "        with open(\"article.txt\", \"w\", encoding=\"utf-8\") as file:\n",
    "            file.write(f\"Title: {title}\\n\\n{article_text}\")\n",
    "    else:\n",
    "        print(\"Failed to retrieve the article. Status code:\", response.status_code)\n",
    "\n",
    "    return (title, article_text)\n"
   ]
  },
  {
   "cell_type": "code",
   "execution_count": 12,
   "metadata": {},
   "outputs": [
    {
     "name": "stdout",
     "output_type": "stream",
     "text": [
      "Title: GM, Ford stocks reel after Trump announces 25% auto tariffs on foreign-made vehicles, certain parts\n",
      "\n",
      "Article Content:\n",
      "President Trump made good on his promise to impose tariffs on foreign automakers, imposing 25% duties on all cars and light trucks not made in the United States, as well as \"certain auto parts.\" The move sent shares of GM (GM), Ford (F), and other automakers sharply lower on Thursday.\n",
      "“This will continue to spur growth that you’ve never seen before,\" Trump said from the White House on Wednesday, signing an executive order putting the tariffs in place. The 25% tariffs are set to take effect April 2 and add to existing tariffs. The White House claimed that $100 billion in annual duties will be collected.\n",
      "GM shares tumbled over 8% in early trading, while Stellantis (STLA) shed nearly 4% and Ford dipped 3%. European automakers as well as Japanese and Korean brands fell on Thursday as well.\n",
      "Though the new tariffs will hit mostly foreign automakers, domestic automakers, including the Big Three — Ford, GM, and Stellantis — are concerned about their impact too. GM, Ford, and Stellantis build vehicles in Canada, Mexico, and China, and they foresee higher production costs due to tariffs' effect on the auto supply chain.\n",
      "Wednesday's tariffs seem to initially target only finished auto products, however the executive order and published fact sheet added parts like \"engines, transmissions, powertrain parts, and electrical components\" to the list of foreign goods subject to tariffs.\n",
      "Trump has deemed April 2, the day on which he is slated to announce further tariffs, \"Liberation Day\" for the US, saying other countries have \"ripped [us] off\" and that any new tariffs are \"reciprocal.\"\n",
      "While the costs of the new auto tariffs on foreign imports are hard to quantify, analysis from various data firms suggest price hikes of $3,000 to as much as $12,000 for non-premium autos.\n",
      "European automakers have suggested a range of options for dealing with tariffs. BMW said it will absorb the costs for a short time, while Porsche suggested it would pass on costs directly to consumers.\n",
      "\"In our view these initial tariffs (if they hold in their current form) would be a hurricane-like headwind to foreign (and many US) automakers and ultimately push the average price of cars up $5k to $10k depending on the make/model/price point,\" Wedbush analyst Dan Ives wrote late Wednesday night. \"We continue to believe this is some form of negotiation and these tariffs could change by the week. ... We expect to learn more over the next week but for now investors will be frustrated by this announcement with few details.\"\n",
      "Pras Subramanian is a reporter for Yahoo Finance. You can follow him on X and on Instagram.\n",
      "Click here for the latest stock market news and in-depth analysis, including events that move stocks\n",
      "Read the latest financial and business news from Yahoo Finance\n"
     ]
    }
   ],
   "source": [
    "\n",
    "url = \"https://finance.yahoo.com/news/trump-announces-25-tariffs-on-all-foreign-made-vehicles-213256123.html\"\n",
    "title, article_text = scrape_yahoo(url)"
   ]
  },
  {
   "cell_type": "code",
   "execution_count": 13,
   "metadata": {},
   "outputs": [
    {
     "data": {
      "text/plain": [
       "'GM, Ford stocks reel after Trump announces 25% auto tariffs on foreign-made vehicles, certain parts'"
      ]
     },
     "execution_count": 13,
     "metadata": {},
     "output_type": "execute_result"
    }
   ],
   "source": [
    "title"
   ]
  },
  {
   "cell_type": "code",
   "execution_count": 14,
   "metadata": {},
   "outputs": [
    {
     "data": {
      "text/plain": [
       "'President Trump made good on his promise to impose tariffs on foreign automakers, imposing 25% duties on all cars and light trucks not made in the United States, as well as \"certain auto parts.\" The move sent shares of GM (GM), Ford (F), and other automakers sharply lower on Thursday.\\n“This will continue to spur growth that you’ve never seen before,\" Trump said from the White House on Wednesday, signing an executive order putting the tariffs in place. The 25% tariffs are set to take effect April 2 and add to existing tariffs. The White House claimed that $100 billion in annual duties will be collected.\\nGM shares tumbled over 8% in early trading, while Stellantis (STLA) shed nearly 4% and Ford dipped 3%. European automakers as well as Japanese and Korean brands fell on Thursday as well.\\nThough the new tariffs will hit mostly foreign automakers, domestic automakers, including the Big Three — Ford, GM, and Stellantis — are concerned about their impact too. GM, Ford, and Stellantis build vehicles in Canada, Mexico, and China, and they foresee higher production costs due to tariffs\\' effect on the auto supply chain.\\nWednesday\\'s tariffs seem to initially target only finished auto products, however the executive order and published fact sheet added parts like \"engines, transmissions, powertrain parts, and electrical components\" to the list of foreign goods subject to tariffs.\\nTrump has deemed April 2, the day on which he is slated to announce further tariffs, \"Liberation Day\" for the US, saying other countries have \"ripped [us] off\" and that any new tariffs are \"reciprocal.\"\\nWhile the costs of the new auto tariffs on foreign imports are hard to quantify, analysis from various data firms suggest price hikes of $3,000 to as much as $12,000 for non-premium autos.\\nEuropean automakers have suggested a range of options for dealing with tariffs. BMW said it will absorb the costs for a short time, while Porsche suggested it would pass on costs directly to consumers.\\n\"In our view these initial tariffs (if they hold in their current form) would be a hurricane-like headwind to foreign (and many US) automakers and ultimately push the average price of cars up $5k to $10k depending on the make/model/price point,\" Wedbush analyst Dan Ives wrote late Wednesday night. \"We continue to believe this is some form of negotiation and these tariffs could change by the week. ... We expect to learn more over the next week but for now investors will be frustrated by this announcement with few details.\"\\nPras Subramanian is a reporter for Yahoo Finance. You can follow him on X and on Instagram.\\nClick here for the latest stock market news and in-depth analysis, including events that move stocks\\nRead the latest financial and business news from Yahoo Finance'"
      ]
     },
     "execution_count": 14,
     "metadata": {},
     "output_type": "execute_result"
    }
   ],
   "source": [
    "article_text"
   ]
  },
  {
   "cell_type": "code",
   "execution_count": 15,
   "metadata": {},
   "outputs": [
    {
     "name": "stdout",
     "output_type": "stream",
     "text": [
      "Title: Jim Cramer on Apple Inc. (AAPL): ‘If We Slap Something On China, Well I Mean Does That Apply To Apple?’\n",
      "\n",
      "Article Content:\n",
      "We recently compiled a list of the Jim Cramer Discusses These 11 Stocks & Shares ChatGPT's Flaws. In this article, we are going to take a look at where Apple Inc. (NASDAQ:AAPL) stands against the other stocks Jim Cramer recently discussed.\n",
      "In his latest appearance on CNBC's Squawk on the Street, Jim Cramer commented on how he's facing trouble using ChatGPT. In his. In previous remarks about OpenAI's software, Cramer shared that he used ChatGPT regularly to research stocks before his programs. While he maintained that \"I use ChatGPT all the time,\" he added that \"it was really bad yesterday.\"\n",
      "Cramer added that ChatGPT \"was dumb; it was more stupid than Alexa.\" He also shared specific examples of where ChatGPT failed to meet his expectations. According to him:\n",
      "When co-host David Faber pointed out that the output from most AI chatbots has to be cross-referenced with each other, Cramer countered and pointed out that the process was too time-consuming. \"But by the time I'm finished with that, I could have hand-counted it,\" shared the CNBC TV show host.\n",
      "He was also full of praise for the late actor Gene Hackman whose death shocked the media industry. Cramer recalled:\n",
      "He also recounted Hackman's movies that he liked and commented on the contrast with the movies that Hackman actually liked. Cramer stated:\n",
      "Cycling back to the trade tensions between the US and China, he added the market is wondering what \"the President going to do about China?\" While admitting that \"China's not as important as it was, but it doesn't matter,\" Cramer added: \"Because everybody in the end is concerned about what the President's going to do.\"\n",
      "\"I mean there are 18 friendly countries that are allowed unlimited selling. And they're saying look, maybe that is arbitrary, and they're to go over the President's people about, how, to change those midnight rules that were put together by the Biden Administration right at the end of his term. So be aware that there's a lot of moving parts, in NVIDIA, no moving parts in Snowflake.\"\n",
      "To make our list of the stocks that Jim Cramer talked about, we listed down all the stocks he mentioned during CNBC’s Squawk on the Street aired on February 27th.\n",
      "For these stocks, we also mentioned the number of hedge fund investors. Why are we interested in the stocks that hedge funds pile into? The reason is simple: our research has shown that we can outperform the market by imitating the top stock picks of the best hedge funds. Our quarterly newsletter’s strategy selects 14 small-cap and large-cap stocks every quarter and has returned 373.4% since May 2014, beating its benchmark by 218 percentage points (see more details here).\n",
      "A wide view of an Apple store, showing the range of products the company offers.\n",
      "Number of Hedge Fund Holders In Q4 2024: 166\n",
      "Apple Inc. (NASDAQ:AAPL)'s shares are down by 1% year-to-date after having shed 3.94% in late February. The stock dipped after investors fretted about the firm being caught in the crosshairs of trade tensions between the US and China. Particularly, Wall Street is worried about the Trump Administration's tariffs in China impacting the firm's bread-and-butter iPhone smartphone. Cramer also commented on these worries:\n",
      "Overall AAPL ranks 2nd on our list of the stocks Jim Cramer recently discussed. While we acknowledge the potential of AAPL as an investment, our conviction lies in the belief that some AI stocks hold greater promise for delivering higher returns and doing so within a shorter time frame. If you are looking for an AI stock that is more promising than AAPL but that trades at less than 5 times its earnings, check out our report about the cheapest AI stock.\n",
      " \n",
      "READ NEXT: 20 Best AI Stocks To Buy Now and Complete List of 59 AI Companies Under $2 Billion in Market Cap\n",
      " \n",
      "Disclosure: None. This article is originally published at Insider Monkey.\n"
     ]
    },
    {
     "data": {
      "text/plain": [
       "('Jim Cramer on Apple Inc. (AAPL): ‘If We Slap Something On China, Well I Mean Does That Apply To Apple?’',\n",
       " 'We recently compiled a list of the Jim Cramer Discusses These 11 Stocks & Shares ChatGPT\\'s Flaws.\\xa0In this article, we are going to take a look at where Apple Inc. (NASDAQ:AAPL) stands against the other stocks Jim Cramer recently discussed.\\nIn his latest appearance on CNBC\\'s Squawk on the Street, Jim Cramer commented on how he\\'s facing trouble using ChatGPT. In his. In previous remarks about OpenAI\\'s software, Cramer shared that he used ChatGPT regularly to research stocks before his programs. While he maintained that \"I use ChatGPT all the time,\" he added that \"it was really bad yesterday.\"\\nCramer added that ChatGPT \"was dumb; it was more stupid than Alexa.\" He also shared specific examples of where ChatGPT failed to meet his expectations. According to him:\\nWhen co-host David Faber pointed out that the output from most AI chatbots has to be cross-referenced with each other, Cramer countered and pointed out that the process was too time-consuming. \"But by the time I\\'m finished with that, I could have hand-counted it,\" shared the CNBC TV show host.\\nHe was also full of praise for the late actor Gene Hackman whose death shocked the media industry. Cramer recalled:\\nHe also recounted Hackman\\'s movies that he liked and commented on the contrast with the movies that Hackman actually liked. Cramer stated:\\nCycling back to the trade tensions between the US and China, he added the market is wondering what \"the President going to do about China?\" While admitting that \"China\\'s not as important as it was, but it doesn\\'t matter,\" Cramer added: \"Because everybody in the end is concerned about what the President\\'s going to do.\"\\n\"I mean there are 18 friendly countries that are allowed unlimited selling. And they\\'re saying look, maybe that is arbitrary, and they\\'re to go over the President\\'s people about, how, to change those midnight rules that were put together by the Biden Administration right at the end of his term. So be aware that there\\'s a lot of moving parts, in NVIDIA, no moving parts in Snowflake.\"\\nTo make our list of the stocks that Jim Cramer talked about, we listed down all the stocks he mentioned during CNBC’s Squawk on the Street aired on February 27th.\\nFor these stocks, we also mentioned the number of hedge fund investors. Why are we interested in the stocks that hedge funds pile into? The reason is simple: our research has shown that we can outperform the market by imitating the top stock picks of the best hedge funds. Our quarterly newsletter’s strategy selects 14 small-cap and large-cap stocks every quarter and has returned 373.4% since May 2014, beating its benchmark by 218 percentage points (see more details here).\\nA wide view of an Apple store, showing the range of products the company offers.\\nNumber of Hedge Fund Holders In Q4 2024: 166\\nApple Inc. (NASDAQ:AAPL)\\'s shares are down by 1% year-to-date after having shed 3.94% in late February. The stock dipped after investors fretted about the firm being caught in the crosshairs of trade tensions between the US and China. Particularly, Wall Street is worried about the Trump Administration\\'s tariffs in China impacting the firm\\'s bread-and-butter iPhone smartphone. Cramer also commented on these worries:\\nOverall AAPL ranks 2nd on our list of the stocks Jim Cramer recently discussed. While we acknowledge the potential of AAPL as an investment, our conviction lies in the belief that some AI stocks hold greater promise for delivering higher returns and doing so within a shorter time frame. If you are looking for an AI stock that is more promising than AAPL but that trades at less than 5 times its earnings, check out our report about the cheapest AI stock.\\n\\xa0\\nREAD NEXT: 20 Best AI Stocks To Buy Now and Complete List of 59 AI Companies Under $2 Billion in Market Cap\\n\\xa0\\nDisclosure: None. This article is originally published at\\xa0Insider Monkey.')"
      ]
     },
     "execution_count": 15,
     "metadata": {},
     "output_type": "execute_result"
    }
   ],
   "source": [
    "url = 'https://finance.yahoo.com/news/jim-cramer-apple-inc-aapl-221852914.html'\n",
    "scrape_yahoo(url)"
   ]
  },
  {
   "cell_type": "code",
   "execution_count": null,
   "metadata": {},
   "outputs": [],
   "source": [
    "import json\n",
    "import logging\n",
    "\n",
    "logging.basicConfig(level=logging.INFO, format='%(asctime)s - %(levelname)s - %(message)s')\n",
    "logger = logging.getLogger()\n",
    "\n",
    "def get_google_news_links(query, start_date=\"2024-01-01\", end_date=\"2024-12-31\", max_results=10, file_name=\"output.json\"):\n",
    "    from googlesearch import search\n",
    "\n",
    "    search_query = f\"site:finance.yahoo.com/news {query} after:{start_date} before:{end_date}\"\n",
    "    logger.info(f\"Searching Google for: {search_query}\")\n",
    "\n",
    "    article_links = []\n",
    "    \n",
    "    for link in search(search_query, num_results=max_results):\n",
    "        logger.info(f\"Found link: {link}\")\n",
    "        article_links.append(link)\n",
    "\n",
    "    data = {\n",
    "        \"query\": query,\n",
    "        \"start_date\": start_date,\n",
    "        \"end_date\": end_date,\n",
    "        \"links\": article_links\n",
    "    }\n",
    "    with open(file_name, \"w\", encoding=\"utf-8\") as file:\n",
    "        json.dump(data, file, indent=4)\n",
    "        logger.info(f\"Data written to {file_name}\")\n",
    "\n",
    "    return article_links"
   ]
  },
  {
   "cell_type": "code",
   "execution_count": null,
   "metadata": {},
   "outputs": [],
   "source": [
    "google_news_links = get_google_news_links(\"2024 election \", max_results=1000, file_name=\"2024_election_links.json\")"
   ]
  },
  {
   "cell_type": "code",
   "execution_count": null,
   "metadata": {},
   "outputs": [],
   "source": [
    "google_news_links = get_google_news_links(\"economy\", max_results=1000, file_name=\"economy_links.json\")"
   ]
  },
  {
   "cell_type": "code",
   "execution_count": null,
   "metadata": {},
   "outputs": [],
   "source": [
    "google_news_links = get_google_news_links(\"trump\", max_results=1000, file_name=\"trump_links.json\")"
   ]
  },
  {
   "cell_type": "code",
   "execution_count": null,
   "metadata": {},
   "outputs": [],
   "source": [
    "google_news_links = get_google_news_links(\"hilary\", max_results=1000, file_name=\"hilary_links.json\")"
   ]
  },
  {
   "cell_type": "code",
   "execution_count": 16,
   "metadata": {},
   "outputs": [],
   "source": [
    "def scrape_yahoo(url):\n",
    "    headers = {\n",
    "        'User-Agent': 'Mozilla/5.0 (Windows NT 10.0; Win64; x64) AppleWebKit/537.36 (KHTML, like Gecko) Chrome/91.0.4472.124 Safari/537.36'\n",
    "    }\n",
    "\n",
    "    response = requests.get(url, headers=headers)\n",
    "\n",
    "    if response.status_code == 200:\n",
    "        soup = BeautifulSoup(response.text, 'html.parser')\n",
    "\n",
    "        # Extract title\n",
    "        meta_title = soup.find('meta', attrs={'name': 'title'})\n",
    "        title = meta_title.get('content', 'No title found') if meta_title else 'No title found'\n",
    "\n",
    "        # Extract article content\n",
    "        paragraphs = soup.find_all('p', class_='yf-1090901')  \n",
    "        article_text = '\\n'.join([para.get_text() for para in paragraphs])\n",
    "\n",
    "        # Extract date from <time> tag\n",
    "        time_tag = soup.find('time', class_='byline-attr-meta-time')\n",
    "        article_date = time_tag['datetime'] if time_tag else 'No date found'\n",
    "\n",
    "        # Print extracted data\n",
    "        print(f\"Title: {title}\")\n",
    "        print(f\"Date: {article_date}\")\n",
    "        print(\"\\nArticle Content:\\n\", article_text)\n",
    "\n",
    "        # Save to JSON file\n",
    "        article_data = {\n",
    "            \"title\": title,\n",
    "            \"date\": article_date,\n",
    "            \"content\": article_text\n",
    "        }\n",
    "\n",
    "        with open(\"article.json\", \"w\", encoding=\"utf-8\") as file:\n",
    "            json.dump(article_data, file, indent=4)\n",
    "\n",
    "    else:\n",
    "        print(f\"Failed to retrieve the article. Status code: {response.status_code}\")\n",
    "\n",
    "    return title, article_date, article_text"
   ]
  },
  {
   "cell_type": "code",
   "execution_count": 17,
   "metadata": {},
   "outputs": [
    {
     "name": "stdout",
     "output_type": "stream",
     "text": [
      "Title: Jim Cramer on Apple Inc. (AAPL): ‘If We Slap Something On China, Well I Mean Does That Apply To Apple?’\n",
      "Date: 2025-03-04T22:18:52.000Z\n",
      "\n",
      "Article Content:\n",
      " We recently compiled a list of the Jim Cramer Discusses These 11 Stocks & Shares ChatGPT's Flaws. In this article, we are going to take a look at where Apple Inc. (NASDAQ:AAPL) stands against the other stocks Jim Cramer recently discussed.\n",
      "In his latest appearance on CNBC's Squawk on the Street, Jim Cramer commented on how he's facing trouble using ChatGPT. In his. In previous remarks about OpenAI's software, Cramer shared that he used ChatGPT regularly to research stocks before his programs. While he maintained that \"I use ChatGPT all the time,\" he added that \"it was really bad yesterday.\"\n",
      "Cramer added that ChatGPT \"was dumb; it was more stupid than Alexa.\" He also shared specific examples of where ChatGPT failed to meet his expectations. According to him:\n",
      "When co-host David Faber pointed out that the output from most AI chatbots has to be cross-referenced with each other, Cramer countered and pointed out that the process was too time-consuming. \"But by the time I'm finished with that, I could have hand-counted it,\" shared the CNBC TV show host.\n",
      "He was also full of praise for the late actor Gene Hackman whose death shocked the media industry. Cramer recalled:\n",
      "He also recounted Hackman's movies that he liked and commented on the contrast with the movies that Hackman actually liked. Cramer stated:\n",
      "Cycling back to the trade tensions between the US and China, he added the market is wondering what \"the President going to do about China?\" While admitting that \"China's not as important as it was, but it doesn't matter,\" Cramer added: \"Because everybody in the end is concerned about what the President's going to do.\"\n",
      "\"I mean there are 18 friendly countries that are allowed unlimited selling. And they're saying look, maybe that is arbitrary, and they're to go over the President's people about, how, to change those midnight rules that were put together by the Biden Administration right at the end of his term. So be aware that there's a lot of moving parts, in NVIDIA, no moving parts in Snowflake.\"\n",
      "To make our list of the stocks that Jim Cramer talked about, we listed down all the stocks he mentioned during CNBC’s Squawk on the Street aired on February 27th.\n",
      "For these stocks, we also mentioned the number of hedge fund investors. Why are we interested in the stocks that hedge funds pile into? The reason is simple: our research has shown that we can outperform the market by imitating the top stock picks of the best hedge funds. Our quarterly newsletter’s strategy selects 14 small-cap and large-cap stocks every quarter and has returned 373.4% since May 2014, beating its benchmark by 218 percentage points (see more details here).\n",
      "A wide view of an Apple store, showing the range of products the company offers.\n",
      "Number of Hedge Fund Holders In Q4 2024: 166\n",
      "Apple Inc. (NASDAQ:AAPL)'s shares are down by 1% year-to-date after having shed 3.94% in late February. The stock dipped after investors fretted about the firm being caught in the crosshairs of trade tensions between the US and China. Particularly, Wall Street is worried about the Trump Administration's tariffs in China impacting the firm's bread-and-butter iPhone smartphone. Cramer also commented on these worries:\n",
      "Overall AAPL ranks 2nd on our list of the stocks Jim Cramer recently discussed. While we acknowledge the potential of AAPL as an investment, our conviction lies in the belief that some AI stocks hold greater promise for delivering higher returns and doing so within a shorter time frame. If you are looking for an AI stock that is more promising than AAPL but that trades at less than 5 times its earnings, check out our report about the cheapest AI stock.\n",
      " \n",
      "READ NEXT: 20 Best AI Stocks To Buy Now and Complete List of 59 AI Companies Under $2 Billion in Market Cap\n",
      " \n",
      "Disclosure: None. This article is originally published at Insider Monkey.\n"
     ]
    },
    {
     "data": {
      "text/plain": [
       "('Jim Cramer on Apple Inc. (AAPL): ‘If We Slap Something On China, Well I Mean Does That Apply To Apple?’',\n",
       " '2025-03-04T22:18:52.000Z',\n",
       " 'We recently compiled a list of the Jim Cramer Discusses These 11 Stocks & Shares ChatGPT\\'s Flaws.\\xa0In this article, we are going to take a look at where Apple Inc. (NASDAQ:AAPL) stands against the other stocks Jim Cramer recently discussed.\\nIn his latest appearance on CNBC\\'s Squawk on the Street, Jim Cramer commented on how he\\'s facing trouble using ChatGPT. In his. In previous remarks about OpenAI\\'s software, Cramer shared that he used ChatGPT regularly to research stocks before his programs. While he maintained that \"I use ChatGPT all the time,\" he added that \"it was really bad yesterday.\"\\nCramer added that ChatGPT \"was dumb; it was more stupid than Alexa.\" He also shared specific examples of where ChatGPT failed to meet his expectations. According to him:\\nWhen co-host David Faber pointed out that the output from most AI chatbots has to be cross-referenced with each other, Cramer countered and pointed out that the process was too time-consuming. \"But by the time I\\'m finished with that, I could have hand-counted it,\" shared the CNBC TV show host.\\nHe was also full of praise for the late actor Gene Hackman whose death shocked the media industry. Cramer recalled:\\nHe also recounted Hackman\\'s movies that he liked and commented on the contrast with the movies that Hackman actually liked. Cramer stated:\\nCycling back to the trade tensions between the US and China, he added the market is wondering what \"the President going to do about China?\" While admitting that \"China\\'s not as important as it was, but it doesn\\'t matter,\" Cramer added: \"Because everybody in the end is concerned about what the President\\'s going to do.\"\\n\"I mean there are 18 friendly countries that are allowed unlimited selling. And they\\'re saying look, maybe that is arbitrary, and they\\'re to go over the President\\'s people about, how, to change those midnight rules that were put together by the Biden Administration right at the end of his term. So be aware that there\\'s a lot of moving parts, in NVIDIA, no moving parts in Snowflake.\"\\nTo make our list of the stocks that Jim Cramer talked about, we listed down all the stocks he mentioned during CNBC’s Squawk on the Street aired on February 27th.\\nFor these stocks, we also mentioned the number of hedge fund investors. Why are we interested in the stocks that hedge funds pile into? The reason is simple: our research has shown that we can outperform the market by imitating the top stock picks of the best hedge funds. Our quarterly newsletter’s strategy selects 14 small-cap and large-cap stocks every quarter and has returned 373.4% since May 2014, beating its benchmark by 218 percentage points (see more details here).\\nA wide view of an Apple store, showing the range of products the company offers.\\nNumber of Hedge Fund Holders In Q4 2024: 166\\nApple Inc. (NASDAQ:AAPL)\\'s shares are down by 1% year-to-date after having shed 3.94% in late February. The stock dipped after investors fretted about the firm being caught in the crosshairs of trade tensions between the US and China. Particularly, Wall Street is worried about the Trump Administration\\'s tariffs in China impacting the firm\\'s bread-and-butter iPhone smartphone. Cramer also commented on these worries:\\nOverall AAPL ranks 2nd on our list of the stocks Jim Cramer recently discussed. While we acknowledge the potential of AAPL as an investment, our conviction lies in the belief that some AI stocks hold greater promise for delivering higher returns and doing so within a shorter time frame. If you are looking for an AI stock that is more promising than AAPL but that trades at less than 5 times its earnings, check out our report about the cheapest AI stock.\\n\\xa0\\nREAD NEXT: 20 Best AI Stocks To Buy Now and Complete List of 59 AI Companies Under $2 Billion in Market Cap\\n\\xa0\\nDisclosure: None. This article is originally published at\\xa0Insider Monkey.')"
      ]
     },
     "execution_count": 17,
     "metadata": {},
     "output_type": "execute_result"
    }
   ],
   "source": [
    "url = 'https://finance.yahoo.com/news/jim-cramer-apple-inc-aapl-221852914.html'\n",
    "scrape_yahoo(url)"
   ]
  },
  {
   "cell_type": "code",
   "execution_count": null,
   "metadata": {},
   "outputs": [],
   "source": []
  }
 ],
 "metadata": {
  "kernelspec": {
   "display_name": "410-project",
   "language": "python",
   "name": "python3"
  },
  "language_info": {
   "codemirror_mode": {
    "name": "ipython",
    "version": 3
   },
   "file_extension": ".py",
   "mimetype": "text/x-python",
   "name": "python",
   "nbconvert_exporter": "python",
   "pygments_lexer": "ipython3",
   "version": "3.11.11"
  }
 },
 "nbformat": 4,
 "nbformat_minor": 2
}
