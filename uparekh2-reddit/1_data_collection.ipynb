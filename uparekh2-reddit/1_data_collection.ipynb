{
 "cells": [
  {
   "cell_type": "code",
   "execution_count": 1,
   "metadata": {},
   "outputs": [],
   "source": [
    "import requests\n",
    "import csv\n",
    "from datetime import datetime"
   ]
  },
  {
   "cell_type": "markdown",
   "metadata": {},
   "source": [
    "# Data Collection\n",
    "Now I'll make the data and export it to CSV using knowledge gained in experiments.\n",
    "For the top 100 submissions of each month of 2024 from the following subreddits:\n",
    "- [r/wallstreetbets](https://www.reddit.com/r/wallstreetbets/)\n",
    "- [r/finance](https://www.reddit.com/r/finance/)\n",
    "- [r/cryptocurrency](https://www.reddit.com/r/cryptocurrency/)\n",
    "- [r/investing](https://www.reddit.com/r/investing/)\n",
    "\n",
    "What I need is a dataframe with the following columns:\n",
    "- Subreddit\n",
    "- Month\n",
    "- Submission ID\n",
    "- Submission Title\n",
    "- Submission Selftext\n",
    "- Body of Top Comment 1\n",
    "- Body of Top Comment 2\n",
    "- ...\n",
    "- Body of Top Comment 10\n",
    "\n",
    "And I'll use the Pullpush API discovered while experimenting to make it all work.\n"
   ]
  },
  {
   "cell_type": "code",
   "execution_count": 2,
   "metadata": {},
   "outputs": [],
   "source": [
    "months = {\n",
    "    'Jan': (datetime(2024, 1, 1), datetime(2024, 1, 31)),\n",
    "    'Feb': (datetime(2024, 2, 1), datetime(2024, 2, 29)),\n",
    "    'Mar': (datetime(2024, 3, 1), datetime(2024, 3, 31)),\n",
    "    'Apr': (datetime(2024, 4, 1), datetime(2024, 4, 30)),\n",
    "    'May': (datetime(2024, 5, 1), datetime(2024, 5, 31)),\n",
    "    'Jun': (datetime(2024, 6, 1), datetime(2024, 6, 30)),\n",
    "    'Jul': (datetime(2024, 7, 1), datetime(2024, 7, 31)),\n",
    "    'Aug': (datetime(2024, 8, 1), datetime(2024, 8, 31)),\n",
    "    'Sep': (datetime(2024, 9, 1), datetime(2024, 9, 30)),\n",
    "    'Oct': (datetime(2024, 10, 1), datetime(2024, 10, 31)),\n",
    "    'Nov': (datetime(2024, 11, 1), datetime(2024, 11, 30)),\n",
    "    'Dec': (datetime(2024, 12, 1), datetime(2024, 12, 31)),\n",
    "}"
   ]
  },
  {
   "cell_type": "code",
   "execution_count": 10,
   "metadata": {},
   "outputs": [],
   "source": [
    "def get_subreddit_data(subreddit: str):\n",
    "    filename = f'reddit-{subreddit}-data.csv'\n",
    "    with open(filename, 'w', newline='') as csvfile:\n",
    "        writer = csv.writer(csvfile, delimiter=',', quotechar='\"', quoting=csv.QUOTE_MINIMAL)\n",
    "        writer.writerow([\n",
    "            'subreddit',\n",
    "            'month',\n",
    "            'post_id',\n",
    "            'post_title',\n",
    "            'post_selftext',\n",
    "        ] + [\n",
    "            f'tc{i}' for i in range(10)\n",
    "        ])\n",
    "        for mo in months.keys():\n",
    "            mo_start, mo_end = months[mo]\n",
    "\n",
    "            while 1:\n",
    "                response = requests.get(\n",
    "                    f'https://api.pullpush.io/reddit/submission/search/?subreddit={subreddit}&after={int(mo_start.timestamp())}&before={int(mo_end.timestamp())}&sort_type=score&size=100'\n",
    "                )\n",
    "                if response.status_code == 200:\n",
    "                    break\n",
    "\n",
    "            posts = response.json()['data']\n",
    "\n",
    "            for post in posts:\n",
    "                while 1:\n",
    "                    response = requests.get(\n",
    "                        f\"https://api.pullpush.io/reddit/comment/search/?link_id={post['id']}&sort_type=score&sort=desc&size=10\"\n",
    "                    )\n",
    "                    if response.status_code == 200:\n",
    "                        break\n",
    "\n",
    "\n",
    "                top10_comments = response.json()['data']\n",
    "                t10c_bodies = [comment['body'].replace('\\n', '') for comment in top10_comments]\n",
    "                writer.writerow([\n",
    "                    subreddit,\n",
    "                    mo,\n",
    "                    post['id'],\n",
    "                    post['title'],\n",
    "                    post['selftext'].replace('\\n', ''),\n",
    "                ] + t10c_bodies)\n",
    "\n",
    "                csvfile.flush()\n",
    "\n"
   ]
  },
  {
   "cell_type": "code",
   "execution_count": 11,
   "metadata": {},
   "outputs": [
    {
     "name": "stderr",
     "output_type": "stream",
     "text": [
      "Traceback (most recent call last):\n",
      "Traceback (most recent call last):\n",
      "  File \"<string>\", line 1, in <module>\n",
      "  File \"<string>\", line 1, in <module>\n",
      "  File \"/opt/homebrew/Caskroom/miniconda/base/envs/410-project/lib/python3.11/multiprocessing/spawn.py\", line 122, in spawn_main\n",
      "  File \"/opt/homebrew/Caskroom/miniconda/base/envs/410-project/lib/python3.11/multiprocessing/spawn.py\", line 122, in spawn_main\n",
      "Traceback (most recent call last):\n",
      "  File \"<string>\", line 1, in <module>\n",
      "  File \"/opt/homebrew/Caskroom/miniconda/base/envs/410-project/lib/python3.11/multiprocessing/spawn.py\", line 122, in spawn_main\n",
      "Traceback (most recent call last):\n",
      "  File \"<string>\", line 1, in <module>\n",
      "  File \"/opt/homebrew/Caskroom/miniconda/base/envs/410-project/lib/python3.11/multiprocessing/spawn.py\", line 122, in spawn_main\n",
      "    exitcode = _main(fd, parent_sentinel)\n",
      "    exitcode = _main(fd, parent_sentinel)\n",
      "    exitcode = _main(fd, parent_sentinel)\n",
      "    exitcode = _main(fd, parent_sentinel)\n",
      "                                ^ ^^       ^  ^     ^ ^ ^ ^^ ^^^^^^^^^^^^^^^^^ ^ ^^^^ ^^^^^^^^^^^^ ^^ ^ ^^^^^^   ^^^^^^^^^^^^\n",
      "^^^  File \"/opt/homebrew/Caskroom/miniconda/base/envs/410-project/lib/python3.11/multiprocessing/spawn.py\", line 132, in _main\n",
      "^^^^^^^^^\n",
      "^^  File \"/opt/homebrew/Caskroom/miniconda/base/envs/410-project/lib/python3.11/multiprocessing/spawn.py\", line 132, in _main\n",
      "^^^^^^^^^^^^^^^^^\n",
      "^^^^  File \"/opt/homebrew/Caskroom/miniconda/base/envs/410-project/lib/python3.11/multiprocessing/spawn.py\", line 132, in _main\n",
      "^^^^\n",
      "  File \"/opt/homebrew/Caskroom/miniconda/base/envs/410-project/lib/python3.11/multiprocessing/spawn.py\", line 132, in _main\n",
      "    self = reduction.pickle.load(from_parent)\n",
      "           ^^^^^    ^self = reduction.pickle.load(from_parent)\n",
      "^^^^^^    ^self = reduction.pickle.load(from_parent)^^    ^self = reduction.pickle.load(from_parent)^\n",
      "^^^^^ ^\n",
      "^^ ^ ^ ^ ^ ^ ^ ^ ^ ^         \n",
      "  ^ ^AttributeError^: ^ ^ ^ ^ ^ ^ ^ ^ ^ ^ ^^Can't get attribute 'get_subreddit_data' on <module '__main__' (built-in)>^^^^\n",
      "^^^^^ ^^^^^^^^^^^^^^^^^^^^^^^^^^^^^^^^^^^^^^^^^^^^^^^^^^^^^^^^^^^^^^^^^^^^^\n",
      "^^^\n",
      "AttributeError: Can't get attribute 'get_subreddit_data' on <module '__main__' (built-in)>\n",
      "AttributeError: ^Can't get attribute 'get_subreddit_data' on <module '__main__' (built-in)>\n",
      "^^^^^\n",
      "AttributeError: Can't get attribute 'get_subreddit_data' on <module '__main__' (built-in)>\n"
     ]
    }
   ],
   "source": [
    "from multiprocessing import Process\n",
    "\n",
    "subreddits = ['wallstreetbets', 'finance', 'cryptocurrency', 'investing']\n",
    "processes = []\n",
    "\n",
    "for subreddit in subreddits:\n",
    "    p = Process(target=get_subreddit_data, args=(subreddit,))\n",
    "    processes.append(p)\n",
    "    p.start()\n",
    "\n",
    "for p in processes:\n",
    "    p.join()"
   ]
  },
  {
   "cell_type": "code",
   "execution_count": null,
   "metadata": {},
   "outputs": [],
   "source": []
  }
 ],
 "metadata": {
  "kernelspec": {
   "display_name": "410-project",
   "language": "python",
   "name": "python3"
  },
  "language_info": {
   "codemirror_mode": {
    "name": "ipython",
    "version": 3
   },
   "file_extension": ".py",
   "mimetype": "text/x-python",
   "name": "python",
   "nbconvert_exporter": "python",
   "pygments_lexer": "ipython3",
   "version": "3.11.11"
  }
 },
 "nbformat": 4,
 "nbformat_minor": 2
}
