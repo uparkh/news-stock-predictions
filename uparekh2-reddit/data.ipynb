{
 "cells": [
  {
   "cell_type": "code",
   "execution_count": 1,
   "metadata": {},
   "outputs": [
    {
     "data": {
      "text/plain": [
       "True"
      ]
     },
     "execution_count": 1,
     "metadata": {},
     "output_type": "execute_result"
    }
   ],
   "source": [
    "import os\n",
    "import praw\n",
    "from pprint import pprint\n",
    "from dotenv import load_dotenv\n",
    "\n",
    "# Load environment variables from .env file\n",
    "load_dotenv()"
   ]
  },
  {
   "cell_type": "markdown",
   "metadata": {},
   "source": [
    "# Processing Reddit Data - Upanshu Parekh (uparekh2)\n",
    "For this part I will be using PRAW to scrape the top 100 posts of each month of 2024.\n",
    "Reddits used:\n",
    "- [r/wallstreetbets](https://www.reddit.com/r/wallstreetbets/)\n",
    "- [r/finance](https://www.reddit.com/r/finance/)\n",
    "- [r/personalfinance](https://www.reddit.com/r/personalfinance/)\n",
    "- [r/investing](https://www.reddit.com/r/investing/)"
   ]
  },
  {
   "cell_type": "code",
   "execution_count": null,
   "metadata": {},
   "outputs": [],
   "source": [
    "reddit = praw.Reddit(\n",
    "    client_id=os.getenv('PRAW_KEY'),\n",
    "    client_secret=os.getenv('PRAW_SECRET'),\n",
    "    username=os.getenv('PRAW_USERNAME'),\n",
    "    password=os.getenv('PRAW_PASSWORD'),\n",
    "    user_agent='scraper by /u/blc5_'\n",
    ")"
   ]
  },
  {
   "cell_type": "code",
   "execution_count": 5,
   "metadata": {},
   "outputs": [
    {
     "data": {
      "text/plain": [
       "Redditor(name='blc5_')"
      ]
     },
     "execution_count": 5,
     "metadata": {},
     "output_type": "execute_result"
    }
   ],
   "source": [
    "reddit.user.me()"
   ]
  },
  {
   "cell_type": "code",
   "execution_count": 6,
   "metadata": {},
   "outputs": [],
   "source": [
    "wsb = reddit.subreddit(\"wallstreetbets\")"
   ]
  },
  {
   "cell_type": "code",
   "execution_count": 7,
   "metadata": {},
   "outputs": [
    {
     "name": "stdout",
     "output_type": "stream",
     "text": [
      "{'_fetched': False,\n",
      " '_path': 'r/wallstreetbets/',\n",
      " '_reddit': <praw.reddit.Reddit object at 0x1079bd150>,\n",
      " 'display_name': 'wallstreetbets'}\n"
     ]
    }
   ],
   "source": [
    "pprint(vars(wsb))"
   ]
  },
  {
   "cell_type": "code",
   "execution_count": 8,
   "metadata": {},
   "outputs": [
    {
     "name": "stdout",
     "output_type": "stream",
     "text": [
      "Title: Times Square right now\n",
      "Score: 490989\n",
      "URL: https://v.redd.it/x64z70f7eie61\n",
      "Comments: 14053\n",
      "----------------------------------------\n",
      "Title: UPVOTE so everyone sees we got SUPPORT\n",
      "Score: 339011\n",
      "URL: https://i.redd.it/sgoqy8nyt2e61.png\n",
      "Comments: 12818\n",
      "----------------------------------------\n",
      "Title: GME YOLO update — Jan 28 2021\n",
      "Score: 301328\n",
      "URL: https://i.redd.it/opzucppb15e61.png\n",
      "Comments: 22970\n",
      "----------------------------------------\n",
      "Title: GME YOLO month-end update — Jan 2021\n",
      "Score: 265183\n",
      "URL: https://i.redd.it/r557em3t5ce61.png\n",
      "Comments: 19862\n",
      "----------------------------------------\n",
      "Title: It’s treason then\n",
      "Score: 248137\n",
      "URL: https://i.redd.it/d3t66lv1yce61.jpg\n",
      "Comments: 4593\n",
      "----------------------------------------\n"
     ]
    }
   ],
   "source": [
    "# Fetch the top 5 hot posts from the subreddit\n",
    "for submission in wsb.top(limit=5):\n",
    "    print(f\"Title: {submission.title}\")\n",
    "    print(f\"Score: {submission.score}\")\n",
    "    print(f\"URL: {submission.url}\")\n",
    "    print(f\"Comments: {submission.num_comments}\")\n",
    "    print(\"-\" * 40)"
   ]
  },
  {
   "cell_type": "code",
   "execution_count": null,
   "metadata": {},
   "outputs": [],
   "source": []
  }
 ],
 "metadata": {
  "kernelspec": {
   "display_name": "410-project",
   "language": "python",
   "name": "python3"
  },
  "language_info": {
   "codemirror_mode": {
    "name": "ipython",
    "version": 3
   },
   "file_extension": ".py",
   "mimetype": "text/x-python",
   "name": "python",
   "nbconvert_exporter": "python",
   "pygments_lexer": "ipython3",
   "version": "3.11.11"
  }
 },
 "nbformat": 4,
 "nbformat_minor": 2
}
