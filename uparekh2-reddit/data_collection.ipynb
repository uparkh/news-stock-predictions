{
 "cells": [
  {
   "cell_type": "code",
   "execution_count": 1,
   "metadata": {},
   "outputs": [],
   "source": [
    "import requests\n",
    "import csv\n",
    "from datetime import datetime"
   ]
  },
  {
   "cell_type": "markdown",
   "metadata": {},
   "source": [
    "# Data Collection\n",
    "Now I'll make the data and export it to CSV using knowledge gained in experiments.\n",
    "For the top 100 submissions of each month of 2024 from the following subreddits:\n",
    "- [r/wallstreetbets](https://www.reddit.com/r/wallstreetbets/)\n",
    "- [r/finance](https://www.reddit.com/r/finance/)\n",
    "- [r/personalfinance](https://www.reddit.com/r/personalfinance/)\n",
    "- [r/investing](https://www.reddit.com/r/investing/)\n",
    "\n",
    "What I need is a dataframe with the following columns:\n",
    "- Subreddit\n",
    "- Month\n",
    "- Submission ID\n",
    "- Submission Title\n",
    "- Submission Selftext\n",
    "- Body of Top Comment 1\n",
    "- Body of Top Comment 2\n",
    "- ...\n",
    "- Body of Top Comment 10\n",
    "\n",
    "And I'll use the Pullpush API discovered while experimenting to make it all work.\n"
   ]
  },
  {
   "cell_type": "code",
   "execution_count": 2,
   "metadata": {},
   "outputs": [],
   "source": [
    "months = {\n",
    "    'Jan': (datetime(2024, 1, 1), datetime(2024, 1, 31)),\n",
    "    'Feb': (datetime(2024, 2, 1), datetime(2024, 2, 29)),\n",
    "    'Mar': (datetime(2024, 3, 1), datetime(2024, 3, 31)),\n",
    "    'Apr': (datetime(2024, 4, 1), datetime(2024, 4, 30)),\n",
    "    'May': (datetime(2024, 5, 1), datetime(2024, 5, 31)),\n",
    "    'Jun': (datetime(2024, 6, 1), datetime(2024, 6, 30)),\n",
    "    'Jul': (datetime(2024, 7, 1), datetime(2024, 7, 31)),\n",
    "    'Aug': (datetime(2024, 8, 1), datetime(2024, 8, 31)),\n",
    "    'Sep': (datetime(2024, 9, 1), datetime(2024, 9, 30)),\n",
    "    'Oct': (datetime(2024, 10, 1), datetime(2024, 10, 31)),\n",
    "    'Nov': (datetime(2024, 11, 1), datetime(2024, 11, 30)),\n",
    "    'Dec': (datetime(2024, 12, 1), datetime(2024, 12, 31)),\n",
    "}"
   ]
  },
  {
   "cell_type": "code",
   "execution_count": null,
   "metadata": {},
   "outputs": [],
   "source": [
    "with open('reddit-data.csv', 'w', newline='') as csvfile:\n",
    "    writer = csv.writer(csvfile, delimiter=',', quotechar='\"', quoting=csv.QUOTE_MINIMAL)\n",
    "    writer.writerow([\n",
    "        'subreddit',\n",
    "        'month',\n",
    "        'post_id',\n",
    "        'post_title',\n",
    "        'post_selftext',\n",
    "    ] + [\n",
    "        f'tc{i}' for i in range(10)\n",
    "    ])\n",
    "    subreddits = ['wallstreetbets', 'finance', 'cryptocurrency', 'investing']\n",
    "    subreddit = 'wallstreetbets'\n",
    "    for mo in months.keys():\n",
    "        mo_start, mo_end = months[mo]\n",
    "        response = requests.get(\n",
    "            f'https://api.pullpush.io/reddit/submission/search/?subreddit={subreddit}&after={int(mo_start.timestamp())}&before={int(mo_end.timestamp())}&sort_type=score&size=100'\n",
    "        )\n",
    "        response.raise_for_status()\n",
    "        posts = response.json()['data']\n",
    "\n",
    "        for post in posts:\n",
    "            response = requests.get(\n",
    "                f\"https://api.pullpush.io/reddit/comment/search/?link_id={post['id']}&sort_type=score&sort=desc&size=10\"\n",
    "            )\n",
    "            response.raise_for_status()\n",
    "            top10_comments = response.json()['data']\n",
    "            t10c_bodies = [comment['body'].replace('\\n', '') for comment in top10_comments]\n",
    "            writer.writerow([\n",
    "                subreddit,\n",
    "                mo,\n",
    "                post['id'],\n",
    "                post['title'],\n",
    "                post['selftext'].replace('\\n', ''),\n",
    "            ] + t10c_bodies)\n",
    "\n",
    "\n"
   ]
  },
  {
   "cell_type": "code",
   "execution_count": null,
   "metadata": {},
   "outputs": [],
   "source": []
  }
 ],
 "metadata": {
  "kernelspec": {
   "display_name": "410-project",
   "language": "python",
   "name": "python3"
  },
  "language_info": {
   "codemirror_mode": {
    "name": "ipython",
    "version": 3
   },
   "file_extension": ".py",
   "mimetype": "text/x-python",
   "name": "python",
   "nbconvert_exporter": "python",
   "pygments_lexer": "ipython3",
   "version": "3.11.11"
  }
 },
 "nbformat": 4,
 "nbformat_minor": 2
}
