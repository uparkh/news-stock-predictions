{
 "cells": [
  {
   "cell_type": "code",
   "execution_count": 35,
   "metadata": {},
   "outputs": [
    {
     "data": {
      "text/plain": [
       "True"
      ]
     },
     "execution_count": 35,
     "metadata": {},
     "output_type": "execute_result"
    }
   ],
   "source": [
    "import os\n",
    "import praw\n",
    "import requests\n",
    "import pandas\n",
    "from datetime import datetime\n",
    "from pprint import pprint\n",
    "from dotenv import load_dotenv\n",
    "\n",
    "# Load environment variables from .env file\n",
    "load_dotenv()"
   ]
  },
  {
   "cell_type": "markdown",
   "metadata": {},
   "source": [
    "# Reddit Data Experiments - Upanshu Parekh (uparekh2)\n",
    "For this part I will be experimenting with PRAW and the PullPush API to scrape the top 100 posts of January 2024 for the [r/wallstreetbets](https://www.reddit.com/r/wallstreetbets/) subreddit. This part is simply just an exploration of the libraries / APIs. Once I understand the general approach, there'll be another Jupyter notebook extracting just the data I need.\n",
    "\n",
    "- [r/finance](https://www.reddit.com/r/finance/)\n",
    "- [r/personalfinance](https://www.reddit.com/r/personalfinance/)\n",
    "- [r/investing](https://www.reddit.com/r/investing/)"
   ]
  },
  {
   "cell_type": "markdown",
   "metadata": {},
   "source": [
    "## PRAW Attempts"
   ]
  },
  {
   "cell_type": "code",
   "execution_count": 2,
   "metadata": {},
   "outputs": [],
   "source": [
    "reddit = praw.Reddit(\n",
    "    client_id=os.getenv('PRAW_KEY'),\n",
    "    client_secret=os.getenv('PRAW_SECRET'),\n",
    "    username=os.getenv('PRAW_USERNAME'),\n",
    "    password=os.getenv('PRAW_PASSWORD'),\n",
    "    user_agent='scraper by /u/blc5_'\n",
    ")"
   ]
  },
  {
   "cell_type": "code",
   "execution_count": 3,
   "metadata": {},
   "outputs": [
    {
     "data": {
      "text/plain": [
       "Redditor(name='blc5_')"
      ]
     },
     "execution_count": 3,
     "metadata": {},
     "output_type": "execute_result"
    }
   ],
   "source": [
    "reddit.user.me()"
   ]
  },
  {
   "cell_type": "code",
   "execution_count": 4,
   "metadata": {},
   "outputs": [],
   "source": [
    "wsb = reddit.subreddit(\"wallstreetbets\")"
   ]
  },
  {
   "cell_type": "code",
   "execution_count": 5,
   "metadata": {},
   "outputs": [
    {
     "name": "stdout",
     "output_type": "stream",
     "text": [
      "{'_fetched': False,\n",
      " '_path': 'r/wallstreetbets/',\n",
      " '_reddit': <praw.reddit.Reddit object at 0x104ac0950>,\n",
      " 'display_name': 'wallstreetbets'}\n"
     ]
    }
   ],
   "source": [
    "pprint(vars(wsb))"
   ]
  },
  {
   "cell_type": "code",
   "execution_count": 7,
   "metadata": {},
   "outputs": [
    {
     "name": "stdout",
     "output_type": "stream",
     "text": [
      "{'_additional_fetch_params': {},\n",
      " '_comments_by_id': {},\n",
      " '_fetched': False,\n",
      " '_reddit': <praw.reddit.Reddit object at 0x104ac0950>,\n",
      " 'all_awardings': [],\n",
      " 'allow_live_comments': True,\n",
      " 'approved_at_utc': None,\n",
      " 'approved_by': None,\n",
      " 'archived': False,\n",
      " 'author': Redditor(name='SomeGuyInDeutschland'),\n",
      " 'author_flair_background_color': '',\n",
      " 'author_flair_css_class': None,\n",
      " 'author_flair_richtext': [{'e': 'text', 't': 'TC or GTFO'}],\n",
      " 'author_flair_template_id': None,\n",
      " 'author_flair_text': 'TC or GTFO',\n",
      " 'author_flair_text_color': 'dark',\n",
      " 'author_flair_type': 'richtext',\n",
      " 'author_fullname': 't2_cxhbp',\n",
      " 'author_is_blocked': False,\n",
      " 'author_patreon_flair': False,\n",
      " 'author_premium': True,\n",
      " 'awarders': [],\n",
      " 'banned_at_utc': None,\n",
      " 'banned_by': None,\n",
      " 'can_gild': False,\n",
      " 'can_mod_post': False,\n",
      " 'category': None,\n",
      " 'clicked': False,\n",
      " 'comment_limit': 2048,\n",
      " 'comment_sort': 'confidence',\n",
      " 'content_categories': None,\n",
      " 'contest_mode': False,\n",
      " 'created': 1612029638.0,\n",
      " 'created_utc': 1612029638.0,\n",
      " 'discussion_type': None,\n",
      " 'distinguished': None,\n",
      " 'domain': 'v.redd.it',\n",
      " 'downs': 0,\n",
      " 'edited': False,\n",
      " 'gilded': 64,\n",
      " 'gildings': {},\n",
      " 'hidden': False,\n",
      " 'hide_score': False,\n",
      " 'id': 'l8rf4k',\n",
      " 'is_created_from_ads_ui': False,\n",
      " 'is_crosspostable': True,\n",
      " 'is_meta': False,\n",
      " 'is_original_content': False,\n",
      " 'is_reddit_media_domain': True,\n",
      " 'is_robot_indexable': True,\n",
      " 'is_self': False,\n",
      " 'is_video': True,\n",
      " 'likes': None,\n",
      " 'link_flair_background_color': '#0392cf',\n",
      " 'link_flair_css_class': 'yolo',\n",
      " 'link_flair_richtext': [{'e': 'text', 't': 'YOLO'}],\n",
      " 'link_flair_template_id': 'da18a43a-83c5-11e8-9b6c-0e287561ddb8',\n",
      " 'link_flair_text': 'YOLO',\n",
      " 'link_flair_text_color': 'light',\n",
      " 'link_flair_type': 'richtext',\n",
      " 'locked': False,\n",
      " 'media': {'reddit_video': {'bitrate_kbps': 2400,\n",
      "                            'dash_url': 'https://v.redd.it/x64z70f7eie61/DASHPlaylist.mpd?a=1744915833%2CNGMwNDk4MTdjNjg3Y2E2ZThhOWUzNjI5MmM1ODBlMDBmODVhMGQ2M2VhYTZiZGE3OWRhNWJkYjJlYzE1ZmVmYQ%3D%3D&v=1&f=sd',\n",
      "                            'duration': 15,\n",
      "                            'fallback_url': 'https://v.redd.it/x64z70f7eie61/DASH_720.mp4?source=fallback',\n",
      "                            'height': 720,\n",
      "                            'hls_url': 'https://v.redd.it/x64z70f7eie61/HLSPlaylist.m3u8?a=1744915833%2CODg1NzU0MWRmYmZhYjc4MDU1N2E4NWUyY2JhY2I0NmUxZjA4OTBmMjJiNzhlYzE4NGZjNDAwM2Y5Nzk3NDE3ZA%3D%3D&v=1&f=sd',\n",
      "                            'is_gif': True,\n",
      "                            'scrubber_media_url': 'https://v.redd.it/x64z70f7eie61/DASH_96.mp4',\n",
      "                            'transcoding_status': 'completed',\n",
      "                            'width': 580}},\n",
      " 'media_embed': {},\n",
      " 'media_only': False,\n",
      " 'mod_note': None,\n",
      " 'mod_reason_by': None,\n",
      " 'mod_reason_title': None,\n",
      " 'mod_reports': [],\n",
      " 'name': 't3_l8rf4k',\n",
      " 'no_follow': False,\n",
      " 'num_comments': 14053,\n",
      " 'num_crossposts': 136,\n",
      " 'num_reports': None,\n",
      " 'over_18': False,\n",
      " 'permalink': '/r/wallstreetbets/comments/l8rf4k/times_square_right_now/',\n",
      " 'pinned': False,\n",
      " 'post_hint': 'hosted:video',\n",
      " 'preview': {'enabled': False,\n",
      "             'images': [{'id': 'RS7FhydF2lTRmvsPSnyKSEoHL69yC03CnB3gqRWSCoQ',\n",
      "                         'resolutions': [{'height': 134,\n",
      "                                          'url': 'https://external-preview.redd.it/lqCsgIY83kFzLNnNz1IyA7JZgr0uAciAnJfmiXd33fo.png?width=108&crop=smart&format=pjpg&auto=webp&s=69305006234f8d3e78dc485977be2aa77603d6d9',\n",
      "                                          'width': 108},\n",
      "                                         {'height': 268,\n",
      "                                          'url': 'https://external-preview.redd.it/lqCsgIY83kFzLNnNz1IyA7JZgr0uAciAnJfmiXd33fo.png?width=216&crop=smart&format=pjpg&auto=webp&s=790b5b9e4ca83afaafc2797cc322ea92011271a4',\n",
      "                                          'width': 216},\n",
      "                                         {'height': 397,\n",
      "                                          'url': 'https://external-preview.redd.it/lqCsgIY83kFzLNnNz1IyA7JZgr0uAciAnJfmiXd33fo.png?width=320&crop=smart&format=pjpg&auto=webp&s=8aea19eecb63dfa8a484dfbd1d05a0a48e832f0e',\n",
      "                                          'width': 320}],\n",
      "                         'source': {'height': 720,\n",
      "                                    'url': 'https://external-preview.redd.it/lqCsgIY83kFzLNnNz1IyA7JZgr0uAciAnJfmiXd33fo.png?format=pjpg&auto=webp&s=b897005a2ef245a191f54ce7b5d7186d4e10a0e1',\n",
      "                                    'width': 580},\n",
      "                         'variants': {}}]},\n",
      " 'pwls': 7,\n",
      " 'quarantine': False,\n",
      " 'removal_reason': None,\n",
      " 'removed_by': None,\n",
      " 'removed_by_category': None,\n",
      " 'report_reasons': None,\n",
      " 'saved': False,\n",
      " 'score': 491006,\n",
      " 'secure_media': {'reddit_video': {'bitrate_kbps': 2400,\n",
      "                                   'dash_url': 'https://v.redd.it/x64z70f7eie61/DASHPlaylist.mpd?a=1744915833%2CNGMwNDk4MTdjNjg3Y2E2ZThhOWUzNjI5MmM1ODBlMDBmODVhMGQ2M2VhYTZiZGE3OWRhNWJkYjJlYzE1ZmVmYQ%3D%3D&v=1&f=sd',\n",
      "                                   'duration': 15,\n",
      "                                   'fallback_url': 'https://v.redd.it/x64z70f7eie61/DASH_720.mp4?source=fallback',\n",
      "                                   'height': 720,\n",
      "                                   'hls_url': 'https://v.redd.it/x64z70f7eie61/HLSPlaylist.m3u8?a=1744915833%2CODg1NzU0MWRmYmZhYjc4MDU1N2E4NWUyY2JhY2I0NmUxZjA4OTBmMjJiNzhlYzE4NGZjNDAwM2Y5Nzk3NDE3ZA%3D%3D&v=1&f=sd',\n",
      "                                   'is_gif': True,\n",
      "                                   'scrubber_media_url': 'https://v.redd.it/x64z70f7eie61/DASH_96.mp4',\n",
      "                                   'transcoding_status': 'completed',\n",
      "                                   'width': 580}},\n",
      " 'secure_media_embed': {},\n",
      " 'selftext': '',\n",
      " 'selftext_html': None,\n",
      " 'send_replies': False,\n",
      " 'spoiler': False,\n",
      " 'stickied': False,\n",
      " 'subreddit': Subreddit(display_name='wallstreetbets'),\n",
      " 'subreddit_id': 't5_2th52',\n",
      " 'subreddit_name_prefixed': 'r/wallstreetbets',\n",
      " 'subreddit_subscribers': 18020113,\n",
      " 'subreddit_type': 'public',\n",
      " 'suggested_sort': 'confidence',\n",
      " 'thumbnail': 'https://b.thumbs.redditmedia.com/jfKs1Hz6Rp3AQwNSE76uqLoGoyihOAmK4FaBV_Rh6Ek.jpg',\n",
      " 'thumbnail_height': 140,\n",
      " 'thumbnail_width': 140,\n",
      " 'title': 'Times Square right now',\n",
      " 'top_awarded_type': None,\n",
      " 'total_awards_received': 0,\n",
      " 'treatment_tags': [],\n",
      " 'ups': 491006,\n",
      " 'upvote_ratio': 0.99,\n",
      " 'url': 'https://v.redd.it/x64z70f7eie61',\n",
      " 'url_overridden_by_dest': 'https://v.redd.it/x64z70f7eie61',\n",
      " 'user_reports': [],\n",
      " 'view_count': None,\n",
      " 'visited': False,\n",
      " 'wls': 7}\n"
     ]
    }
   ],
   "source": [
    "# Get the top submission from the subreddit for viewing dict keys\n",
    "for submission in wsb.top(limit=1):\n",
    "    pprint(vars(submission))"
   ]
  },
  {
   "cell_type": "markdown",
   "metadata": {},
   "source": [
    "## PullPush Attempt\n",
    "Apparently this service provides a more convenient API for read-only data between old Reddit data that used to be provided by a holistic service called PushShift and augmenting it with the Reddit API.\n",
    "\n",
    "It doesn't go against Reddit's TOS, apparently. It's been up for a year or so, read up on their website to see more: https://pullpush.io"
   ]
  },
  {
   "cell_type": "code",
   "execution_count": 38,
   "metadata": {},
   "outputs": [
    {
     "name": "stdout",
     "output_type": "stream",
     "text": [
      "Timestamp for 01-01-2024: 1704088800\n",
      "Timestamp for 01-31-2024: 1706680800\n"
     ]
    }
   ],
   "source": [
    "# Define the dates\n",
    "date_start = datetime(2024, 1, 1)\n",
    "date_end = datetime(2024, 1, 31)\n",
    "\n",
    "# Convert to timestamps\n",
    "ts_beg = int(date_start.timestamp())\n",
    "ts_end = int(date_end.timestamp())\n",
    "\n",
    "print(f\"Timestamp for 01-01-2024: {ts_beg}\")\n",
    "print(f\"Timestamp for 01-31-2024: {ts_end}\")"
   ]
  },
  {
   "cell_type": "code",
   "execution_count": 39,
   "metadata": {},
   "outputs": [],
   "source": [
    "response = requests.get(f'https://api.pullpush.io/reddit/submission/search/?subreddit=wallstreetbets&after={ts_beg}&before={ts_end}&sort_type=score&sort=desc&size=100')\n",
    "response.raise_for_status()  # Raise an error for bad responses\n",
    "data = response.json()"
   ]
  },
  {
   "cell_type": "code",
   "execution_count": null,
   "metadata": {},
   "outputs": [],
   "source": [
    "# response = requests.get('https://api.pullpush.io/reddit/submission/search/?ids=1hv1wuj')\n",
    "# response.raise_for_status()  # Raise an error for bad responses\n",
    "# data = response.json()"
   ]
  },
  {
   "cell_type": "code",
   "execution_count": null,
   "metadata": {},
   "outputs": [
    {
     "data": {
      "text/plain": [
       "dict_keys(['approved_at_utc', 'subreddit', 'selftext', 'author_fullname', 'saved', 'mod_reason_title', 'gilded', 'clicked', 'title', 'link_flair_richtext', 'subreddit_name_prefixed', 'hidden', 'pwls', 'link_flair_css_class', 'downs', 'thumbnail_height', 'top_awarded_type', 'hide_score', 'name', 'quarantine', 'link_flair_text_color', 'upvote_ratio', 'author_flair_background_color', 'subreddit_type', 'ups', 'total_awards_received', 'media_embed', 'thumbnail_width', 'author_flair_template_id', 'is_original_content', 'user_reports', 'secure_media', 'is_reddit_media_domain', 'is_meta', 'category', 'secure_media_embed', 'link_flair_text', 'can_mod_post', 'score', 'approved_by', 'is_created_from_ads_ui', 'author_premium', 'thumbnail', 'edited', 'author_flair_css_class', 'author_flair_richtext', 'gildings', 'post_hint', 'content_categories', 'is_self', 'mod_note', 'created', 'link_flair_type', 'wls', 'removed_by_category', 'banned_by', 'author_flair_type', 'domain', 'allow_live_comments', 'selftext_html', 'likes', 'suggested_sort', 'banned_at_utc', 'view_count', 'archived', 'no_follow', 'is_crosspostable', 'pinned', 'over_18', 'preview', 'all_awardings', 'awarders', 'media_only', 'link_flair_template_id', 'can_gild', 'spoiler', 'locked', 'author_flair_text', 'treatment_tags', 'visited', 'removed_by', 'num_reports', 'distinguished', 'subreddit_id', 'author_is_blocked', 'mod_reason_by', 'removal_reason', 'link_flair_background_color', 'id', 'is_robot_indexable', 'report_reasons', 'author', 'discussion_type', 'num_comments', 'send_replies', 'contest_mode', 'mod_reports', 'author_patreon_flair', 'author_flair_text_color', 'permalink', 'stickied', 'url', 'subreddit_subscribers', 'created_utc', 'num_crossposts', 'media', 'is_video'])"
      ]
     },
     "execution_count": 31,
     "metadata": {},
     "output_type": "execute_result"
    }
   ],
   "source": [
    "# subm = data['data'][0]\n",
    "# subm.keys()\n",
    "# # subm['selftext'] contains the text of the submission"
   ]
  },
  {
   "cell_type": "code",
   "execution_count": null,
   "metadata": {},
   "outputs": [
    {
     "name": "stdout",
     "output_type": "stream",
     "text": [
      "Number of submissions with selftext: 32\n",
      "Number of submissions without selftext: 68\n"
     ]
    }
   ],
   "source": [
    "num_selftext = 0\n",
    "for subm in data['data']:\n",
    "    if subm['selftext']:\n",
    "        num_selftext += 1\n",
    "    # print(f\"Id: {subm['id']}\")\n",
    "    # print(f\"Title: {subm['title']}\")\n",
    "    # print(f\"Score: {subm['score']}\")\n",
    "    # print(f\"Created UTC: {datetime.fromtimestamp(subm['created_utc'])}\")\n",
    "    # print(f\"URL: {subm['url']}\")\n",
    "    # print(f\"Selftext: {subm['selftext'][:100]}...\")  # Print first 100 chars of selftext\n",
    "    # print(\"-\" * 40)\n",
    "\n",
    "print(f\"Number of submissions with selftext: {num_selftext}\")\n",
    "print(f\"Number of submissions without selftext: {len(data['data']) - num_selftext}\")"
   ]
  },
  {
   "cell_type": "markdown",
   "metadata": {},
   "source": [
    "Not that many submissions without selftext, maybe a good idea would be to get the text of the top 10 comments for each post and include it in the data for a submission. Maybe I'll combine title + selftext + all comment texts as the corpus for each submission.\n",
    "\n",
    "I think the final columns for each submission entry could then be:\n",
    "- Subreddit\n",
    "- Month\n",
    "- Submission ID\n",
    "- Submission Title\n",
    "- Submission\n",
    "- Top Comment 1\n",
    "- Top Comment 2\n",
    "- ...\n",
    "- Top Comment 10\n"
   ]
  },
  {
   "cell_type": "code",
   "execution_count": null,
   "metadata": {},
   "outputs": [],
   "source": [
    "sub0 = data['data'][0]\n",
    "sub0_id = sub0['id']\n",
    "top10comments = []\n",
    "try:\n",
    "    resp = requests.get(f'https://api.pullpush.io/reddit/comment/search/?link_id={sub0_id}&sort_type=score&sort=desc&size=10')\n",
    "    resp.raise_for_status()\n",
    "    top10comments = resp.json()\n",
    "except requests.exceptions.RequestException as e:\n",
    "    print(f\"Error fetching comments: {e}\")\n"
   ]
  },
  {
   "cell_type": "code",
   "execution_count": 48,
   "metadata": {},
   "outputs": [
    {
     "data": {
      "text/plain": [
       "10"
      ]
     },
     "execution_count": 48,
     "metadata": {},
     "output_type": "execute_result"
    }
   ],
   "source": [
    "len(top10comments['data'])"
   ]
  },
  {
   "cell_type": "code",
   "execution_count": 53,
   "metadata": {},
   "outputs": [
    {
     "data": {
      "text/plain": [
       "dict_keys(['subreddit_id', 'approved_at_utc', 'author_is_blocked', 'comment_type', 'edited', 'mod_reason_by', 'banned_by', 'ups', 'num_reports', 'author_flair_type', 'total_awards_received', 'subreddit', 'author_flair_template_id', 'likes', 'replies', 'user_reports', 'saved', 'id', 'banned_at_utc', 'mod_reason_title', 'gilded', 'archived', 'collapsed_reason_code', 'no_follow', 'author', 'can_mod_post', 'send_replies', 'parent_id', 'score', 'author_fullname', 'report_reasons', 'removal_reason', 'approved_by', 'all_awardings', 'body', 'awarders', 'top_awarded_type', 'downs', 'author_flair_css_class', 'author_patreon_flair', 'collapsed', 'author_flair_richtext', 'is_submitter', 'body_html', 'gildings', 'collapsed_reason', 'associated_award', 'stickied', 'author_premium', 'can_gild', 'link_id', 'unrepliable_reason', 'author_flair_text_color', 'score_hidden', 'permalink', 'subreddit_type', 'locked', 'name', 'created', 'author_flair_text', 'treatment_tags', 'created_utc', 'subreddit_name_prefixed', 'controversiality', 'author_flair_background_color', 'collapsed_because_crowd_control', 'mod_reports', 'mod_note', 'distinguished'])"
      ]
     },
     "execution_count": 53,
     "metadata": {},
     "output_type": "execute_result"
    }
   ],
   "source": [
    "com0 = top10comments['data'][2]\n",
    "com0.keys()"
   ]
  },
  {
   "cell_type": "code",
   "execution_count": 54,
   "metadata": {},
   "outputs": [
    {
     "data": {
      "text/plain": [
       "\"It's like minority report, the crash was priced in.before it even happened. Sorry, bro, but you'll die for my puts.\""
      ]
     },
     "execution_count": 54,
     "metadata": {},
     "output_type": "execute_result"
    }
   ],
   "source": [
    "com0['body']"
   ]
  },
  {
   "cell_type": "code",
   "execution_count": null,
   "metadata": {},
   "outputs": [],
   "source": []
  }
 ],
 "metadata": {
  "kernelspec": {
   "display_name": "410-project",
   "language": "python",
   "name": "python3"
  },
  "language_info": {
   "codemirror_mode": {
    "name": "ipython",
    "version": 3
   },
   "file_extension": ".py",
   "mimetype": "text/x-python",
   "name": "python",
   "nbconvert_exporter": "python",
   "pygments_lexer": "ipython3",
   "version": "3.11.11"
  }
 },
 "nbformat": 4,
 "nbformat_minor": 2
}
